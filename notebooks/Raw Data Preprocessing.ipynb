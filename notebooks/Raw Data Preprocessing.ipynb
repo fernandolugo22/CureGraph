{
 "cells": [
  {
   "cell_type": "code",
   "execution_count": 1,
   "id": "a2a099ef",
   "metadata": {},
   "outputs": [
    {
     "data": {
      "text/plain": [
       "'E:\\\\Graph_molecule_project\\\\notebooks'"
      ]
     },
     "execution_count": 1,
     "metadata": {},
     "output_type": "execute_result"
    }
   ],
   "source": [
    "import os\n",
    "os.getcwd()"
   ]
  },
  {
   "cell_type": "code",
   "execution_count": 2,
   "id": "192b07d7",
   "metadata": {},
   "outputs": [],
   "source": [
    "import pandas as pd\n",
    "import numpy as np\n",
    "import matplotlib.pyplot as plt\n",
    "import warnings\n",
    "\n",
    "warnings.filterwarnings(\"ignore\")"
   ]
  },
  {
   "cell_type": "code",
   "execution_count": 3,
   "id": "b9e62da9",
   "metadata": {},
   "outputs": [],
   "source": [
    "SEED = 42\n",
    "np.random.seed(SEED)\n",
    "state = SEED"
   ]
  },
  {
   "cell_type": "code",
   "execution_count": 4,
   "id": "3509e61a",
   "metadata": {},
   "outputs": [],
   "source": [
    "data_path = \"../sample_datasets/HIV.csv\""
   ]
  },
  {
   "cell_type": "code",
   "execution_count": 5,
   "id": "95082ae7",
   "metadata": {},
   "outputs": [
    {
     "data": {
      "text/html": [
       "<div>\n",
       "<style scoped>\n",
       "    .dataframe tbody tr th:only-of-type {\n",
       "        vertical-align: middle;\n",
       "    }\n",
       "\n",
       "    .dataframe tbody tr th {\n",
       "        vertical-align: top;\n",
       "    }\n",
       "\n",
       "    .dataframe thead th {\n",
       "        text-align: right;\n",
       "    }\n",
       "</style>\n",
       "<table border=\"1\" class=\"dataframe\">\n",
       "  <thead>\n",
       "    <tr style=\"text-align: right;\">\n",
       "      <th></th>\n",
       "      <th>smiles</th>\n",
       "      <th>activity</th>\n",
       "      <th>HIV_active</th>\n",
       "    </tr>\n",
       "  </thead>\n",
       "  <tbody>\n",
       "    <tr>\n",
       "      <th>0</th>\n",
       "      <td>CCC1=[O+][Cu-3]2([O+]=C(CC)C1)[O+]=C(CC)CC(CC)...</td>\n",
       "      <td>CI</td>\n",
       "      <td>0</td>\n",
       "    </tr>\n",
       "    <tr>\n",
       "      <th>1</th>\n",
       "      <td>C(=Cc1ccccc1)C1=[O+][Cu-3]2([O+]=C(C=Cc3ccccc3...</td>\n",
       "      <td>CI</td>\n",
       "      <td>0</td>\n",
       "    </tr>\n",
       "    <tr>\n",
       "      <th>2</th>\n",
       "      <td>CC(=O)N1c2ccccc2Sc2c1ccc1ccccc21</td>\n",
       "      <td>CI</td>\n",
       "      <td>0</td>\n",
       "    </tr>\n",
       "    <tr>\n",
       "      <th>3</th>\n",
       "      <td>Nc1ccc(C=Cc2ccc(N)cc2S(=O)(=O)O)c(S(=O)(=O)O)c1</td>\n",
       "      <td>CI</td>\n",
       "      <td>0</td>\n",
       "    </tr>\n",
       "    <tr>\n",
       "      <th>4</th>\n",
       "      <td>O=S(=O)(O)CCS(=O)(=O)O</td>\n",
       "      <td>CI</td>\n",
       "      <td>0</td>\n",
       "    </tr>\n",
       "  </tbody>\n",
       "</table>\n",
       "</div>"
      ],
      "text/plain": [
       "                                              smiles activity  HIV_active\n",
       "0  CCC1=[O+][Cu-3]2([O+]=C(CC)C1)[O+]=C(CC)CC(CC)...       CI           0\n",
       "1  C(=Cc1ccccc1)C1=[O+][Cu-3]2([O+]=C(C=Cc3ccccc3...       CI           0\n",
       "2                   CC(=O)N1c2ccccc2Sc2c1ccc1ccccc21       CI           0\n",
       "3    Nc1ccc(C=Cc2ccc(N)cc2S(=O)(=O)O)c(S(=O)(=O)O)c1       CI           0\n",
       "4                             O=S(=O)(O)CCS(=O)(=O)O       CI           0"
      ]
     },
     "execution_count": 5,
     "metadata": {},
     "output_type": "execute_result"
    }
   ],
   "source": [
    "data = pd.read_csv(data_path)\n",
    "data.head()"
   ]
  },
  {
   "cell_type": "code",
   "execution_count": 6,
   "id": "2064ba83",
   "metadata": {},
   "outputs": [
    {
     "name": "stdout",
     "output_type": "stream",
     "text": [
      "<class 'pandas.core.frame.DataFrame'>\n",
      "RangeIndex: 41127 entries, 0 to 41126\n",
      "Data columns (total 3 columns):\n",
      " #   Column      Non-Null Count  Dtype \n",
      "---  ------      --------------  ----- \n",
      " 0   smiles      41127 non-null  object\n",
      " 1   activity    41127 non-null  object\n",
      " 2   HIV_active  41127 non-null  int64 \n",
      "dtypes: int64(1), object(2)\n",
      "memory usage: 964.0+ KB\n"
     ]
    }
   ],
   "source": [
    "data.info()"
   ]
  },
  {
   "cell_type": "code",
   "execution_count": 7,
   "id": "893c4eac",
   "metadata": {},
   "outputs": [
    {
     "data": {
      "image/png": "[encoded data removed]",
      "text/plain": [
       "<Figure size 504x504 with 1 Axes>"
      ]
     },
     "metadata": {},
     "output_type": "display_data"
    }
   ],
   "source": [
    "activities = data[\"activity\"].value_counts()\n",
    "plt.figure(figsize=(7,7))\n",
    "plt.pie(activities.values, labels=activities.index,\n",
    "        explode = [0.1 if index > 0 else 0 for index in range(len(activities))], shadow=True)\n",
    "plt.show()"
   ]
  },
  {
   "cell_type": "code",
   "execution_count": 8,
   "id": "a3a7c1be",
   "metadata": {},
   "outputs": [
    {
     "data": {
      "image/png": "[encoded data removed]",
      "text/plain": [
       "<Figure size 504x504 with 1 Axes>"
      ]
     },
     "metadata": {
      "needs_background": "light"
     },
     "output_type": "display_data"
    }
   ],
   "source": [
    "targets = data[\"HIV_active\"].value_counts()\n",
    "plt.figure(figsize=(7,7))\n",
    "plt.bar(targets.index, targets.values)\n",
    "plt.show()"
   ]
  },
  {
   "cell_type": "code",
   "execution_count": 9,
   "id": "f072177a",
   "metadata": {},
   "outputs": [
    {
     "name": "stdout",
     "output_type": "stream",
     "text": [
      "Negative target abundance : 0.9649135604347508\n",
      "Positive target abundance : 0.03508643956524911\n"
     ]
    }
   ],
   "source": [
    "print(f\"Negative target abundance : {targets.values[0] / sum(targets.values)}\")\n",
    "print(f\"Positive target abundance : {targets.values[1] / sum(targets.values)}\")"
   ]
  },
  {
   "cell_type": "code",
   "execution_count": 10,
   "id": "9163e38c",
   "metadata": {},
   "outputs": [
    {
     "data": {
      "text/html": [
       "<div>\n",
       "<style scoped>\n",
       "    .dataframe tbody tr th:only-of-type {\n",
       "        vertical-align: middle;\n",
       "    }\n",
       "\n",
       "    .dataframe tbody tr th {\n",
       "        vertical-align: top;\n",
       "    }\n",
       "\n",
       "    .dataframe thead th {\n",
       "        text-align: right;\n",
       "    }\n",
       "</style>\n",
       "<table border=\"1\" class=\"dataframe\">\n",
       "  <thead>\n",
       "    <tr style=\"text-align: right;\">\n",
       "      <th></th>\n",
       "      <th>smiles</th>\n",
       "      <th>activity</th>\n",
       "      <th>HIV_active</th>\n",
       "    </tr>\n",
       "  </thead>\n",
       "  <tbody>\n",
       "    <tr>\n",
       "      <th>11</th>\n",
       "      <td>O=C(O)Cc1ccc(SSc2ccc(CC(=O)O)cc2)cc1</td>\n",
       "      <td>CM</td>\n",
       "      <td>1</td>\n",
       "    </tr>\n",
       "    <tr>\n",
       "      <th>16</th>\n",
       "      <td>NNP(=S)(NN)c1ccccc1</td>\n",
       "      <td>CM</td>\n",
       "      <td>1</td>\n",
       "    </tr>\n",
       "    <tr>\n",
       "      <th>80</th>\n",
       "      <td>O=Nc1ccc(O)c(N=O)c1O</td>\n",
       "      <td>CM</td>\n",
       "      <td>1</td>\n",
       "    </tr>\n",
       "    <tr>\n",
       "      <th>203</th>\n",
       "      <td>Oc1ccc(Cl)cc1C(c1cc(Cl)ccc1O)C(Cl)(Cl)Cl</td>\n",
       "      <td>CM</td>\n",
       "      <td>1</td>\n",
       "    </tr>\n",
       "    <tr>\n",
       "      <th>234</th>\n",
       "      <td>NNC(=O)c1ccccc1SSc1ccccc1C(=O)NN</td>\n",
       "      <td>CM</td>\n",
       "      <td>1</td>\n",
       "    </tr>\n",
       "  </tbody>\n",
       "</table>\n",
       "</div>"
      ],
      "text/plain": [
       "                                       smiles activity  HIV_active\n",
       "11       O=C(O)Cc1ccc(SSc2ccc(CC(=O)O)cc2)cc1       CM           1\n",
       "16                        NNP(=S)(NN)c1ccccc1       CM           1\n",
       "80                       O=Nc1ccc(O)c(N=O)c1O       CM           1\n",
       "203  Oc1ccc(Cl)cc1C(c1cc(Cl)ccc1O)C(Cl)(Cl)Cl       CM           1\n",
       "234          NNC(=O)c1ccccc1SSc1ccccc1C(=O)NN       CM           1"
      ]
     },
     "execution_count": 10,
     "metadata": {},
     "output_type": "execute_result"
    }
   ],
   "source": [
    "# Dropping the 0-values targets to a huge number so that, the data can be approximately get uniformity.\n",
    "# The expected binary-target ratio would be 70-30\n",
    "\n",
    "pos_targets_records = data[data[\"HIV_active\"] == 1]\n",
    "neg_targets_records = data[data[\"HIV_active\"] == 0]\n",
    "required_neg_target_records = int(len(pos_targets_records) * (7/3))\n",
    "\n",
    "final_data = pd.concat([pos_targets_records,\n",
    "                        neg_targets_records.sample(n=required_neg_target_records,\n",
    "                                                   random_state=state)])\n",
    "final_data.head()"
   ]
  },
  {
   "cell_type": "code",
   "execution_count": 11,
   "id": "68dc1d7f",
   "metadata": {},
   "outputs": [
    {
     "name": "stdout",
     "output_type": "stream",
     "text": [
      "Negative target abundance : 0.7\n",
      "Positive target abundance : 0.3\n"
     ]
    }
   ],
   "source": [
    "final_targets = final_data[\"HIV_active\"].value_counts()\n",
    "print(f\"Negative target abundance : {final_targets.values[0] / sum(final_targets.values)}\")\n",
    "print(f\"Positive target abundance : {final_targets.values[1] / sum(final_targets.values)}\")"
   ]
  },
  {
   "cell_type": "code",
   "execution_count": 12,
   "id": "53bd82aa",
   "metadata": {},
   "outputs": [],
   "source": [
    "X = final_data[\"smiles\"]\n",
    "y = final_data[\"HIV_active\"]"
   ]
  },
  {
   "cell_type": "code",
   "execution_count": 13,
   "id": "ce655fe5",
   "metadata": {},
   "outputs": [],
   "source": [
    "from sklearn.model_selection import train_test_split"
   ]
  },
  {
   "cell_type": "code",
   "execution_count": 14,
   "id": "fe7a0e96",
   "metadata": {},
   "outputs": [],
   "source": [
    "# Train-Test Split was taken for model validation\n",
    "# Ratio taken 85-15 as the training dataset is small\n",
    "X_train, X_test, y_train, y_test = train_test_split(X, y, test_size = 0.2, random_state=state, stratify=y)"
   ]
  },
  {
   "cell_type": "code",
   "execution_count": 15,
   "id": "254fbfdb",
   "metadata": {},
   "outputs": [],
   "source": [
    "# Packing Training and testing dataset into cvs files\n",
    "pd.concat([X_train,y_train], axis=1).reset_index(drop=True).to_csv(\"../data/raw/train.csv\", index=False)\n",
    "pd.concat([X_test,y_test], axis=1).reset_index(drop=True).to_csv(\"../data/raw/test.csv\", index=False)"
   ]
  }
 ],
 "metadata": {
  "kernelspec": {
   "display_name": "Python 3 (ipykernel)",
   "language": "python",
   "name": "python3"
  },
  "language_info": {
   "codemirror_mode": {
    "name": "ipython",
    "version": 3
   },
   "file_extension": ".py",
   "mimetype": "text/x-python",
   "name": "python",
   "nbconvert_exporter": "python",
   "pygments_lexer": "ipython3",
   "version": "3.9.12"
  }
 },
 "nbformat": 4,
 "nbformat_minor": 5
}
